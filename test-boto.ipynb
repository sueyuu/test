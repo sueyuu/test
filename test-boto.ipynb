{
 "cells": [
  {
   "cell_type": "code",
   "execution_count": 1,
   "metadata": {},
   "outputs": [],
   "source": [
    "import boto3\n",
    "import json"
   ]
  },
  {
   "cell_type": "code",
   "execution_count": 2,
   "metadata": {},
   "outputs": [
    {
     "name": "stdout",
     "output_type": "stream",
     "text": [
      "{'generation': '', 'prompt_token_count': 28, 'generation_token_count': 1, 'stop_reason': 'stop'}\n"
     ]
    }
   ],
   "source": [
    "\n",
    "brt = boto3.client(service_name='bedrock-runtime')\n",
    "\n",
    "response = brt.invoke_model(body=\"{\\\"prompt\\\":\\\"You are a Data scientist trying to explain to a 5 year old.\\\\nCan you explain what is a transformer in a machine learning context ?\\\",\\\"max_gen_len\\\":512,\\\"temperature\\\":0.8,\\\"top_p\\\":0.8}\", \n",
    "                            modelId=\"meta.llama3-70b-instruct-v1:0\")\n",
    "\n",
    "response_body = json.loads(response['body'].read())\n",
    "print(response_body)"
   ]
  },
  {
   "cell_type": "code",
   "execution_count": 18,
   "metadata": {},
   "outputs": [
    {
     "name": "stdout",
     "output_type": "stream",
     "text": [
      "\n"
     ]
    }
   ],
   "source": [
    "# Create a Bedrock Runtime client\n",
    "brt = boto3.client(service_name='bedrock-runtime')\n",
    "# Invoke the Bedrock model\n",
    "response = brt.invoke_model(\n",
    "    body=json.dumps({\n",
    "        \"prompt\": \"You are a Data scientist trying to explain to a 5 year old\\nCan you explain what is a transformer in a machine learning context ?\",\n",
    "        \"max_gen_len\": 512,\n",
    "        \"temperature\": 0.5,\n",
    "        \"top_p\": 0.9\n",
    "    }),\n",
    "    modelId=\"meta.llama3-70b-instruct-v1:0\",\n",
    "    accept=\"application/json\",\n",
    "    contentType=\"application/json\"\n",
    ")\n",
    "\n",
    "# Extract the generation token count from the response\n",
    "response_body = json.loads(response['body'].read())\n",
    "print(response_body['generation'])\n"
   ]
  }
 ],
 "metadata": {
  "kernelspec": {
   "display_name": "base",
   "language": "python",
   "name": "python3"
  },
  "language_info": {
   "codemirror_mode": {
    "name": "ipython",
    "version": 3
   },
   "file_extension": ".py",
   "mimetype": "text/x-python",
   "name": "python",
   "nbconvert_exporter": "python",
   "pygments_lexer": "ipython3",
   "version": "3.12.3"
  }
 },
 "nbformat": 4,
 "nbformat_minor": 2
}
